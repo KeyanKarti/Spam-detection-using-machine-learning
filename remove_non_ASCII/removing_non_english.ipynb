{
 "cells": [
  {
   "cell_type": "code",
   "execution_count": 12,
   "metadata": {},
   "outputs": [
    {
     "name": "stdout",
     "output_type": "stream",
     "text": [
      "<type 'list'>\n",
      "128622\n",
      "<class 'pandas.core.frame.DataFrame'>\n",
      "RangeIndex: 128622 entries, 0 to 128621\n",
      "Data columns (total 3 columns):\n",
      "created_at    128622 non-null object\n",
      "text          128622 non-null object\n",
      "user_id       128622 non-null object\n",
      "dtypes: object(3)\n",
      "memory usage: 2.9+ MB\n",
      "None\n"
     ]
    }
   ],
   "source": [
    "import csv\n",
    "import sys\n",
    "import pandas as pd\n",
    "import codecs\n",
    "\n",
    "rows = []\n",
    "\n",
    "with open('fake_tweets.csv', 'rb') as oldf:\n",
    "    old_reader = csv.DictReader(oldf)\n",
    "    for row in old_reader:\n",
    "        try:\n",
    "            row['text'].decode('ascii')\n",
    "            rows.append(row) \n",
    "        except UnicodeDecodeError:\n",
    "            pass\n",
    "\n",
    "print(type(rows))\n",
    "print(len(rows))\n",
    "df = pd.DataFrame(rows) \n",
    "print(df.info())\n",
    "df.dropna(how='any',inplace=True)\n",
    "df.to_csv(r'C:\\Users\\KARTHIK\\Desktop\\pp_fake_tweets.csv')"
   ]
  },
  {
   "cell_type": "code",
   "execution_count": null,
   "metadata": {},
   "outputs": [],
   "source": []
  }
 ],
 "metadata": {
  "kernelspec": {
   "display_name": "Python 2",
   "language": "python",
   "name": "python2"
  },
  "language_info": {
   "codemirror_mode": {
    "name": "ipython",
    "version": 2
   },
   "file_extension": ".py",
   "mimetype": "text/x-python",
   "name": "python",
   "nbconvert_exporter": "python",
   "pygments_lexer": "ipython2",
   "version": "2.7.16"
  }
 },
 "nbformat": 4,
 "nbformat_minor": 2
}
